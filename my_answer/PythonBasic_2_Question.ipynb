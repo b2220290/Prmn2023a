{
  "nbformat": 4,
  "nbformat_minor": 0,
  "metadata": {
    "colab": {
      "provenance": [],
      "toc_visible": true,
      "include_colab_link": true
    },
    "kernelspec": {
      "name": "python3",
      "display_name": "Python 3"
    },
    "language_info": {
      "name": "python"
    }
  },
  "cells": [
    {
      "cell_type": "markdown",
      "metadata": {
        "id": "view-in-github",
        "colab_type": "text"
      },
      "source": [
        "<a href=\"https://colab.research.google.com/github/b2220290/Prmn2023a/blob/main/my_answer/PythonBasic_2_Question.ipynb\" target=\"_parent\"><img src=\"https://colab.research.google.com/assets/colab-badge.svg\" alt=\"Open In Colab\"/></a>"
      ]
    },
    {
      "cell_type": "markdown",
      "source": [
        "# 第2章 課題"
      ],
      "metadata": {
        "id": "C44SsXDACtHu"
      }
    },
    {
      "cell_type": "markdown",
      "source": [
        "## 課題1"
      ],
      "metadata": {
        "id": "OnkezWHRCwr9"
      }
    },
    {
      "cell_type": "markdown",
      "source": [
        "for文を使って、以下のように出力してください"
      ],
      "metadata": {
        "id": "q32rK-cECzCl"
      }
    },
    {
      "cell_type": "markdown",
      "source": [
        "![oSFeQoX.png](https://i.imgur.com/oSFeQoX.png)"
      ],
      "metadata": {
        "id": "FxMcxznVB6cI"
      }
    },
    {
      "cell_type": "code",
      "source": [
        "for i in range(1,5):\n",
        "  for j in range(4-i):\n",
        "    print(\" \",end=\"\")\n",
        "  for k in range(1,i*2):\n",
        "    print(\"*\",end=\"\")\n",
        "  print(\"\")"
      ],
      "metadata": {
        "id": "-olEmy6gRekr",
        "outputId": "58c1246e-ba85-4dfa-8021-20d2db8d6f61",
        "colab": {
          "base_uri": "https://localhost:8080/"
        }
      },
      "execution_count": null,
      "outputs": [
        {
          "output_type": "stream",
          "name": "stdout",
          "text": [
            "   *\n",
            "  ***\n",
            " *****\n",
            "*******\n"
          ]
        }
      ]
    },
    {
      "cell_type": "code",
      "source": [
        "# 入力用\n",
        "for i in range(1,5):\n",
        "  print(i)\n",
        "  a=123\n",
        "  for j in range(1,i*2):\n",
        "    print(f'{\"*\":^7}',end=\"\")\n"
      ],
      "metadata": {
        "id": "iBFSsrdRC5Zt",
        "outputId": "8032c5bc-20b6-4299-a95c-14c401e2073e",
        "colab": {
          "base_uri": "https://localhost:8080/"
        }
      },
      "execution_count": 24,
      "outputs": [
        {
          "output_type": "stream",
          "name": "stdout",
          "text": [
            "1\n",
            "   *   2\n",
            "   *      *      *   3\n",
            "   *      *      *      *      *   4\n",
            "   *      *      *      *      *      *      *   "
          ]
        }
      ]
    },
    {
      "cell_type": "markdown",
      "source": [
        "## 課題2"
      ],
      "metadata": {
        "id": "gIn-UqGTCagu"
      }
    },
    {
      "cell_type": "markdown",
      "source": [
        "課題1の場合を`n=4`として、nを自分で設定して出力できるようにしてください"
      ],
      "metadata": {
        "id": "ltdiEdqYDFy8"
      }
    },
    {
      "cell_type": "markdown",
      "source": [
        "＜例＞ n=5の場合  \n",
        "![o5NjugQ.png](https://imgur.com/o5NjugQ.png)"
      ],
      "metadata": {
        "id": "hw0FM8BRDHz1"
      }
    },
    {
      "cell_type": "code",
      "source": [
        "# 入力用\n",
        "\n",
        "n=int(input(\"n=\"))\n",
        "for i in range(1,n+1):\n",
        "  for j in range(n-i):\n",
        "    print(\" \",end=\"\")\n",
        "  for k in range(1,i*2):\n",
        "    print(\"*\",end=\"\")\n",
        "  print(\"\")\n"
      ],
      "metadata": {
        "id": "upd76Tv-FrIB",
        "colab": {
          "base_uri": "https://localhost:8080/"
        },
        "outputId": "2595ca71-aa3e-41d9-feac-987eb090437c"
      },
      "execution_count": null,
      "outputs": [
        {
          "output_type": "stream",
          "name": "stdout",
          "text": [
            "n=5\n",
            "    *\n",
            "   ***\n",
            "  *****\n",
            " *******\n",
            "*********\n"
          ]
        }
      ]
    },
    {
      "cell_type": "markdown",
      "source": [
        "## 課題3"
      ],
      "metadata": {
        "id": "tLMJvwBDE7wT"
      }
    },
    {
      "cell_type": "markdown",
      "source": [
        "for文を使って、以下のように出力してください"
      ],
      "metadata": {
        "id": "vZNvWsG7E99q"
      }
    },
    {
      "cell_type": "markdown",
      "source": [
        "![oSirXec.png](https://imgur.com/oSirXec.png)"
      ],
      "metadata": {
        "id": "ijOV-ilXGDNR"
      }
    },
    {
      "cell_type": "code",
      "source": [
        "# 入力用\n",
        "\n",
        "for i in range(1,8):\n",
        "  if i<=n:\n",
        "    a=4-i\n",
        "    b=i*2\n",
        "  elif i>4:\n",
        "    a=i-4\n",
        "    b=(8-i)*2\n",
        "  for j in range(a):\n",
        "    print(\" \",end=\"\")\n",
        "  for k in range(1,b):\n",
        "    print(\"*\",end=\"\")\n",
        "  print(\"\")"
      ],
      "metadata": {
        "id": "Q5Ob9uZpGIE3",
        "colab": {
          "base_uri": "https://localhost:8080/"
        },
        "outputId": "a5a26a1a-29aa-4c25-c6cf-487199e725ef"
      },
      "execution_count": 6,
      "outputs": [
        {
          "output_type": "stream",
          "name": "stdout",
          "text": [
            "n=4\n",
            "   *\n",
            "  ***\n",
            " *****\n",
            "*******\n",
            " *****\n",
            "  ***\n",
            "   *\n"
          ]
        }
      ]
    },
    {
      "cell_type": "markdown",
      "source": [
        "## 課題4"
      ],
      "metadata": {
        "id": "Oh7whOPkGQ3I"
      }
    },
    {
      "cell_type": "markdown",
      "source": [
        "課題3の場合を`n=4`として、nを自分で設定して出力できるようにしてください"
      ],
      "metadata": {
        "id": "PnvT8MQbGS03"
      }
    },
    {
      "cell_type": "markdown",
      "source": [
        "＜例＞ n=5の場合  \n",
        "\n",
        "![my4J17V.png](https://i.imgur.com/my4J17V.png)"
      ],
      "metadata": {
        "id": "ZujkAbVMGzhn"
      }
    },
    {
      "cell_type": "code",
      "source": [
        "# 入力用\n",
        "n=int(input(\"n=\"))\n",
        "for i in range(1,2*n):\n",
        "  if i<=n:\n",
        "    a=n-i\n",
        "    b=i*2\n",
        "  elif i>n:\n",
        "    a=i-n\n",
        "    b=(n*2-i)*2\n",
        "  for j in range(a):\n",
        "    print(\" \",end=\"\")\n",
        "  for k in range(1,b):\n",
        "    print(\"*\",end=\"\")\n",
        "  print(\"\")\n"
      ],
      "metadata": {
        "id": "hCFNQ7mWG99u",
        "colab": {
          "base_uri": "https://localhost:8080/"
        },
        "outputId": "afa7f1b9-41cd-4a2e-d908-71fd11eb5f3b"
      },
      "execution_count": 5,
      "outputs": [
        {
          "output_type": "stream",
          "name": "stdout",
          "text": [
            "n=5\n",
            "    *\n",
            "   ***\n",
            "  *****\n",
            " *******\n",
            "*********\n",
            " *******\n",
            "  *****\n",
            "   ***\n",
            "    *\n"
          ]
        }
      ]
    },
    {
      "cell_type": "markdown",
      "source": [
        "## 課題5"
      ],
      "metadata": {
        "id": "R2MvOK4wHJlK"
      }
    },
    {
      "cell_type": "markdown",
      "source": [
        "for文を使って、以下のように出力してください"
      ],
      "metadata": {
        "id": "ddMIUoaKHcwd"
      }
    },
    {
      "cell_type": "markdown",
      "source": [
        "![vDUi5eM.png](https://imgur.com/vDUi5eM.png)"
      ],
      "metadata": {
        "id": "CD1cVUlWHLVO"
      }
    },
    {
      "cell_type": "code",
      "source": [
        "# 入力用\n",
        "n=int(input(\"n=\"))\n",
        "m=int(input(\"m=\"))\n",
        "for i in range(1,2*n): #行数\n",
        "  if i<=n:\n",
        "    a=n-i\n",
        "    b=i*2-1\n",
        "  elif i>n:\n",
        "    a=i-n\n",
        "    b=(n*2-i)*2-1\n",
        "    \n",
        "  for l in range(m):\n",
        "    if l==0:\n",
        "      p=a\n",
        "    elif l>0:\n",
        "      p=a*2-1\n",
        "    if i!=n or l==0:\n",
        "      q=b\n",
        "    elif i==n:\n",
        "      q=b-1\n",
        "\n",
        "\n",
        "    for j in range(p):\n",
        "      print(\" \",end=\"\")\n",
        "    \n",
        "    for k in range(q):\n",
        "      print(\"*\",end=\"\")\n",
        "  print(\"\")"
      ],
      "metadata": {
        "id": "1pDkfJpUHd93",
        "colab": {
          "base_uri": "https://localhost:8080/"
        },
        "outputId": "156992ce-3f8c-4d48-ec46-75149985e790"
      },
      "execution_count": 41,
      "outputs": [
        {
          "output_type": "stream",
          "name": "stdout",
          "text": [
            "n=4\n",
            "m=2\n",
            "   *     *\n",
            "  ***   ***\n",
            " ***** *****\n",
            "*************\n",
            " ***** *****\n",
            "  ***   ***\n",
            "   *     *\n"
          ]
        }
      ]
    },
    {
      "cell_type": "markdown",
      "source": [
        "## 課題6"
      ],
      "metadata": {
        "id": "oubbafOBHerl"
      }
    },
    {
      "cell_type": "markdown",
      "source": [
        "課題5の場合を`n=4`として、nを自分で設定して出力できるようにしてください"
      ],
      "metadata": {
        "id": "7SzgFdC-HzG9"
      }
    },
    {
      "cell_type": "markdown",
      "source": [
        "＜例＞ n=5の場合  \n",
        "\n",
        "![udkVlYG.png](https://imgur.com/udkVlYG.png)"
      ],
      "metadata": {
        "id": "LY8g9PVPH2OW"
      }
    },
    {
      "cell_type": "code",
      "source": [
        "# 入力用\n",
        "n=int(input(\"n=\"))\n",
        "m=int(input(\"m=\"))\n",
        "for i in range(1,2*n): #行数\n",
        "  if i<=n:\n",
        "    a=n-i\n",
        "    b=i*2-1\n",
        "  elif i>n:\n",
        "    a=i-n\n",
        "    b=(n*2-i)*2-1\n",
        "    \n",
        "  for l in range(m):\n",
        "    if l==0:\n",
        "      p=a\n",
        "    elif l>0:\n",
        "      p=a*2-1\n",
        "    if i!=n or l==0:\n",
        "      q=b\n",
        "    elif i==n:\n",
        "      q=b-1\n",
        "\n",
        "\n",
        "    for j in range(p):\n",
        "      print(\" \",end=\"\")\n",
        "    \n",
        "    for k in range(q):\n",
        "      print(\"*\",end=\"\")\n",
        "  print(\"\")"
      ],
      "metadata": {
        "id": "XZOK5ulbH-tu",
        "colab": {
          "base_uri": "https://localhost:8080/"
        },
        "outputId": "187dbee7-c808-474c-fb8a-cdb10076a80e"
      },
      "execution_count": 44,
      "outputs": [
        {
          "output_type": "stream",
          "name": "stdout",
          "text": [
            "n=4\n",
            "m=3\n",
            "   *     *     *\n",
            "  ***   ***   ***\n",
            " ***** ***** *****\n",
            "*******************\n",
            " ***** ***** *****\n",
            "  ***   ***   ***\n",
            "   *     *     *\n"
          ]
        }
      ]
    },
    {
      "cell_type": "markdown",
      "source": [
        "## 課題7"
      ],
      "metadata": {
        "id": "ouqTUmPQIKGF"
      }
    },
    {
      "cell_type": "markdown",
      "source": [
        "for文を使って、以下のように出力してください"
      ],
      "metadata": {
        "id": "WHSxdOHuIMRM"
      }
    },
    {
      "cell_type": "markdown",
      "source": [
        "![IuP0M16.png](https://imgur.com/IuP0M16.png)"
      ],
      "metadata": {
        "id": "-G--WFTkIM8s"
      }
    },
    {
      "cell_type": "code",
      "source": [
        "# 入力用\n",
        "for r in range(2): #行\n",
        "  for i in range(1,2*4): #行数\n",
        "    if r!=0 and i==1: #行の重なり\n",
        "      continue\n",
        "    if i<=4: #一個の折り返し\n",
        "      a=4-i\n",
        "      b=i*2-1\n",
        "    elif i>4:\n",
        "      a=i-4\n",
        "      b=(4*2-i)*2-1\n",
        "    \n",
        "    for l in range(2): #列\n",
        "      if l==0: #空白\n",
        "        p=a\n",
        "      elif l>0:\n",
        "        p=a*2-1\n",
        "      if i!=4 or l==0: #列の重なり(星)\n",
        "        q=b\n",
        "      elif i==4:\n",
        "        q=b-1\n",
        "\n",
        "      for j in range(p):\n",
        "        print(\" \",end=\"\")\n",
        "      for k in range(q):\n",
        "        print(\"*\",end=\"\")\n",
        "    print(\"\")\n",
        "\n",
        "\n",
        "\n",
        "\n",
        "\n",
        "\n"
      ],
      "metadata": {
        "id": "BVXjDteuIijL",
        "colab": {
          "base_uri": "https://localhost:8080/"
        },
        "outputId": "ce82063d-bfbc-42ee-c374-1505b80bf7b4"
      },
      "execution_count": 55,
      "outputs": [
        {
          "output_type": "stream",
          "name": "stdout",
          "text": [
            "   *     *\n",
            "  ***   ***\n",
            " ***** *****\n",
            "*************\n",
            " ***** *****\n",
            "  ***   ***\n",
            "   *     *\n",
            "  ***   ***\n",
            " ***** *****\n",
            "*************\n",
            " ***** *****\n",
            "  ***   ***\n",
            "   *     *\n"
          ]
        }
      ]
    },
    {
      "cell_type": "markdown",
      "source": [
        "## 課題8"
      ],
      "metadata": {
        "id": "31u0ExX2IjWj"
      }
    },
    {
      "cell_type": "markdown",
      "source": [
        "課題7の場合を`n=4`として、nを自分で設定して出力できるようにしてください"
      ],
      "metadata": {
        "id": "zeOvmKarInpz"
      }
    },
    {
      "cell_type": "markdown",
      "source": [
        "＜例＞ n=5の場合  \n",
        "\n",
        "![AlTnu1k.png](https://imgur.com/AlTnu1k.png)"
      ],
      "metadata": {
        "id": "2uLR5sbKIov2"
      }
    },
    {
      "cell_type": "code",
      "source": [
        "# 入力用\n",
        "# 入力用\n",
        "n=int(input(\"n=\"))\n",
        "m=int(input(\"m=\"))\n",
        "o=int(input(\"o=\"))\n",
        "for r in range(o): #行\n",
        "  for i in range(1,2*n): #行数\n",
        "    if r!=0 and i==1: #行の重なり\n",
        "      continue\n",
        "    if i<=n: #一個の折り返し\n",
        "      a=n-i\n",
        "      b=i*2-1\n",
        "    elif i>n:\n",
        "      a=i-n\n",
        "      b=(n*2-i)*2-1\n",
        "    \n",
        "    for l in range(m): #列\n",
        "      if l==0: #空白\n",
        "        p=a\n",
        "      elif l>0:\n",
        "        p=a*2-1\n",
        "      if i!=n or l==0: #列の重なり(星)\n",
        "        q=b\n",
        "      elif i==n:\n",
        "        q=b-1\n",
        "\n",
        "      for j in range(p):\n",
        "        print(\" \",end=\"\")\n",
        "      for k in range(q):\n",
        "        print(\"*\",end=\"\")\n",
        "    print(\"\")\n"
      ],
      "metadata": {
        "id": "TXJaIVbYI_Cd"
      },
      "execution_count": null,
      "outputs": []
    }
  ]
}