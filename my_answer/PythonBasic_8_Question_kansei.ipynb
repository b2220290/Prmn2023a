{
  "nbformat": 4,
  "nbformat_minor": 0,
  "metadata": {
    "colab": {
      "provenance": [],
      "include_colab_link": true
    },
    "kernelspec": {
      "name": "python3",
      "display_name": "Python 3"
    },
    "language_info": {
      "name": "python"
    }
  },
  "cells": [
    {
      "cell_type": "markdown",
      "metadata": {
        "id": "view-in-github",
        "colab_type": "text"
      },
      "source": [
        "<a href=\"https://colab.research.google.com/github/b2220290/Prmn2023a/blob/main/my_answer/PythonBasic_8_Question_kansei.ipynb\" target=\"_parent\"><img src=\"https://colab.research.google.com/assets/colab-badge.svg\" alt=\"Open In Colab\"/></a>"
      ]
    },
    {
      "cell_type": "markdown",
      "source": [
        "<a href=\"https://colab.research.google.com/github/kiryu-3/Prmn2023/blob/main/Python/Python_Basic/question/PythonBasic_8_Question.ipynb\" target=\"_parent\"><img src=\"https://colab.research.google.com/assets/colab-badge.svg\" alt=\"Open In Colab\"/></a>"
      ],
      "metadata": {
        "id": "IoLAPliGuLZM"
      }
    },
    {
      "cell_type": "markdown",
      "source": [
        "# オブジェクト指向1 課題"
      ],
      "metadata": {
        "id": "ZFQrSJHsZEns"
      }
    },
    {
      "cell_type": "markdown",
      "source": [
        "## 課題1"
      ],
      "metadata": {
        "id": "1DGEULJlZLkL"
      }
    },
    {
      "cell_type": "markdown",
      "source": [
        "以下の要件を満たすクラスを作成してください"
      ],
      "metadata": {
        "id": "he1ry54qZP56"
      }
    },
    {
      "cell_type": "markdown",
      "source": [
        "**指示**\n",
        "\n",
        "・ moveメソッド内で「歩いたよ」と出力するInsectクラスを作る\n",
        "・ moveメソッド内で「飛んだよ」と出力するButterflyクラスを作る\n",
        "・ moveメソッド内で「跳んだよ」と出力するLocustクラスを作る\n",
        "・ moveメソッド内で「綺麗に飛んだよ」と出力するSwallowtailButterflyクラスを作る\n",
        "\n",
        "\n",
        "\n"
      ],
      "metadata": {
        "id": "PkJ0b9znZUMi"
      }
    },
    {
      "cell_type": "markdown",
      "source": [
        "4つのクラスのインスタンスをリストinsect_listに格納してください。\n",
        "その後、格納した4つのインスタンスからmoveメソッドを呼び出してください。"
      ],
      "metadata": {
        "id": "MOz_aUO4cj-9"
      }
    },
    {
      "cell_type": "code",
      "source": [
        "# 入力用\n",
        "class Insect:\n",
        "  def move(self):\n",
        "    print(\"歩いたよ\")\n",
        "\n",
        "class Butterfly:\n",
        "  def move(self):\n",
        "    print(\"飛んだよ\")\n",
        "\n",
        "class Locust:\n",
        "  def move(self):\n",
        "    print(\"跳んだよ\")\n",
        "\n",
        "class SwallowtailButterfly:\n",
        "  def move(self):\n",
        "    print(\"綺麗に飛んだよ\")\n",
        "\n",
        "ins=Insect()\n",
        "but=Butterfly()\n",
        "loc=Locust()\n",
        "swa=SwallowtailButterfly()\n",
        "insect_list=[ins,but,loc,swa]\n",
        "\n",
        "for i in range(4):\n",
        "  insect_list[i].move()"
      ],
      "metadata": {
        "id": "p1fSdDIhrYbf",
        "colab": {
          "base_uri": "https://localhost:8080/"
        },
        "outputId": "3f1532e0-122f-48a7-fc83-a31928741dc9"
      },
      "execution_count": null,
      "outputs": [
        {
          "output_type": "stream",
          "name": "stdout",
          "text": [
            "歩いたよ\n",
            "飛んだよ\n",
            "跳んだよ\n",
            "綺麗に飛んだよ\n"
          ]
        }
      ]
    },
    {
      "cell_type": "markdown",
      "source": [
        "## 課題2\n",
        "\n"
      ],
      "metadata": {
        "id": "sxV6gRm8djFh"
      }
    },
    {
      "cell_type": "markdown",
      "source": [
        "以下の要件を満たすクラスを作成してください"
      ],
      "metadata": {
        "id": "AXc3PV3ddkyJ"
      }
    },
    {
      "cell_type": "markdown",
      "source": [
        "**指示**\n",
        "\n",
        "・ クラス名は Car、属性として変数fuelを持つ\n",
        "\n",
        "・ 引数なしコンストラクタでfuelを0で初期化する\n",
        "\n",
        "・ メソッドとして戻り値、引数無しのrun() を持つ\n",
        "\n",
        "・ run()メソッドではfuelを1消費して、走ったことが分かる文言を表示させる\n",
        "     \t  　(例:  \"燃料を1消費して走りました。\")\n",
        "\n",
        "・ fuelが0以下の時走れなかったことが分かる文言を表示させる\n",
        "\n",
        "\n",
        "\n"
      ],
      "metadata": {
        "id": "kvvx9u5Kdh8i"
      }
    },
    {
      "cell_type": "markdown",
      "source": [
        "Carに給油をするGasStationクラスを作成してください\n",
        "\n",
        "・ クラス名はGasStation、コンストラクタ無し\n",
        "\n",
        "・ refuel()メソッドを持つ\n",
        "\n",
        "・ refuel()ではCarのfuelを20増やす\n",
        "\n",
        "・ refuel()では給油したことが分かる文言を表示する"
      ],
      "metadata": {
        "id": "SZD3JsY_dUZc"
      }
    },
    {
      "cell_type": "markdown",
      "source": [
        "CarとGasStationをインスタンス化し、\n",
        "GasStationで給油をする前と後でCarのrun()を呼び出してください"
      ],
      "metadata": {
        "id": "mtvFz04Dc4bl"
      }
    },
    {
      "cell_type": "markdown",
      "source": [
        "＜メイン部分のコード（固定）＞"
      ],
      "metadata": {
        "id": "Hk4WYMCXMtf1"
      }
    },
    {
      "cell_type": "code",
      "source": [
        "car = Car()\n",
        "gasstation = GasStation()\n",
        "\n",
        "car.run()\n",
        "gasstation.refuel(car)\n",
        "car.run()"
      ],
      "metadata": {
        "id": "1j_9Ub9ZMuNE",
        "colab": {
          "base_uri": "https://localhost:8080/",
          "height": 245
        },
        "outputId": "99469636-42e4-41eb-d256-4171f1141cac"
      },
      "execution_count": null,
      "outputs": [
        {
          "output_type": "error",
          "ename": "AttributeError",
          "evalue": "ignored",
          "traceback": [
            "\u001b[0;31m---------------------------------------------------------------------------\u001b[0m",
            "\u001b[0;31mAttributeError\u001b[0m                            Traceback (most recent call last)",
            "\u001b[0;32m<ipython-input-3-9c1dadb2446a>\u001b[0m in \u001b[0;36m<cell line: 4>\u001b[0;34m()\u001b[0m\n\u001b[1;32m      2\u001b[0m \u001b[0mgasstation\u001b[0m \u001b[0;34m=\u001b[0m \u001b[0mGasStation\u001b[0m\u001b[0;34m(\u001b[0m\u001b[0;34m)\u001b[0m\u001b[0;34m\u001b[0m\u001b[0;34m\u001b[0m\u001b[0m\n\u001b[1;32m      3\u001b[0m \u001b[0;34m\u001b[0m\u001b[0m\n\u001b[0;32m----> 4\u001b[0;31m \u001b[0mcar\u001b[0m\u001b[0;34m.\u001b[0m\u001b[0mrun\u001b[0m\u001b[0;34m(\u001b[0m\u001b[0;34m)\u001b[0m\u001b[0;34m\u001b[0m\u001b[0;34m\u001b[0m\u001b[0m\n\u001b[0m\u001b[1;32m      5\u001b[0m \u001b[0mgasstation\u001b[0m\u001b[0;34m.\u001b[0m\u001b[0mrefuel\u001b[0m\u001b[0;34m(\u001b[0m\u001b[0mcar\u001b[0m\u001b[0;34m)\u001b[0m\u001b[0;34m\u001b[0m\u001b[0;34m\u001b[0m\u001b[0m\n\u001b[1;32m      6\u001b[0m \u001b[0mcar\u001b[0m\u001b[0;34m.\u001b[0m\u001b[0mrun\u001b[0m\u001b[0;34m(\u001b[0m\u001b[0;34m)\u001b[0m\u001b[0;34m\u001b[0m\u001b[0;34m\u001b[0m\u001b[0m\n",
            "\u001b[0;31mAttributeError\u001b[0m: 'Car' object has no attribute 'run'"
          ]
        }
      ]
    },
    {
      "cell_type": "markdown",
      "source": [
        "＜実行結果例＞\n",
        "\n",
        "```\n",
        "燃料が足りないため走れませんでした。\n",
        "給油したことによりfuelが20増えました。\n",
        "燃料を1消費して走りました。\n",
        "```"
      ],
      "metadata": {
        "id": "RNXwj-VBeFPQ"
      }
    },
    {
      "cell_type": "code",
      "source": [
        "# 入力用\n",
        "#selfはそのクラス内を表す。外では代わりにインスタンス\n",
        "class Car:\n",
        "  def __init__(self):\n",
        "    self.fuel=0\n",
        "\n",
        "  def run(self):\n",
        "    if(self.fuel>0):\n",
        "      self.fuel-=1\n",
        "      print(\"燃料を1消費して走りました。\")\n",
        "    else:\n",
        "      print(\"燃料が足りないため走れませんでした。\")\n",
        "\n",
        "\n",
        "class GasStation:\n",
        "  def refuel(self,car):\n",
        "    car.fuel+=20\n",
        "    print(\"給油したことによりfuelが20増えました。\")"
      ],
      "metadata": {
        "id": "jpQTz1Kxra7P"
      },
      "execution_count": null,
      "outputs": []
    },
    {
      "cell_type": "code",
      "source": [
        "car = Car()\n",
        "gasstation = GasStation()\n",
        "\n",
        "car.run()\n",
        "gasstation.refuel(car)\n",
        "car.run()"
      ],
      "metadata": {
        "colab": {
          "base_uri": "https://localhost:8080/"
        },
        "id": "3XMuGibsAnR1",
        "outputId": "4f363db5-7f09-4188-95ef-20e44eb0da42"
      },
      "execution_count": null,
      "outputs": [
        {
          "output_type": "stream",
          "name": "stdout",
          "text": [
            "燃料が足りないため走れませんでした。\n",
            "給油したことによりfuelが20増えました。\n",
            "燃料を1消費して走りました。\n"
          ]
        }
      ]
    },
    {
      "cell_type": "markdown",
      "source": [
        "## 課題3"
      ],
      "metadata": {
        "id": "GCHVpQ4aV_UR"
      }
    },
    {
      "cell_type": "markdown",
      "source": [
        "以下の要件を満たすクラスを作成してください"
      ],
      "metadata": {
        "id": "ECrnt9e5WJSc"
      }
    },
    {
      "cell_type": "markdown",
      "source": [
        "**指示**\n",
        "\n",
        "口座情報を管理するAccountクラスを作成してください\n",
        "\n",
        "・ name（名前）, number（口座番号）, balance（残高）を属性にもつ\n",
        "\n",
        "・ コンストラクタでは、balanceを0で初期化する\n",
        "\n"
      ],
      "metadata": {
        "id": "SA6Tbw_lXehC"
      }
    },
    {
      "cell_type": "markdown",
      "source": [
        "銀行でのお金のやり取りを行うATMクラスを作成してください\n",
        "\n",
        "・ ATMのコンストラクタでAccountのインスタンスを管理するaccountsを初期化する\n",
        "\n",
        "・ register_account()メソッドではアカウントを登録する\n",
        " 　 この中でAccountクラスをnameとnubmerを引数としてインスタンス化する\n",
        "\n",
        "・ exists_account()メソッドは引数のnameとnumberから\n",
        "   　 accountsに存在するかどうかをbooleanで返す\n",
        "\n",
        "・ deposit()メソッドでは引数のmoneyを使って入金を行う\n",
        "\n",
        "・ withdraw()メソッドでは引数のmoneyを使って引出を行う\n",
        " 　 残高が足りないときには行えないようにする\n",
        "\n",
        "register_account()exists_account()deposit()withdraw()"
      ],
      "metadata": {
        "id": "M2FE_MUndc4z"
      }
    },
    {
      "cell_type": "markdown",
      "source": [
        "それぞれ何か行うたびに、何をしたか分かるように標準出力で表示するようにしてください"
      ],
      "metadata": {
        "id": "-tmD0hewdiS1"
      }
    },
    {
      "cell_type": "markdown",
      "source": [
        "＜メイン部分のコード（固定）＞"
      ],
      "metadata": {
        "id": "fr8xuuUHM7Jt"
      }
    },
    {
      "cell_type": "code",
      "source": [
        "atm = ATM()\n",
        "\n",
        "atm.exists_account(\"千歳太郎\",\"12345\")\n",
        "atm.register_account(\"千歳太郎\",\"12345\")\n",
        "\n",
        "if atm.exists_account(\"千歳太郎\",\"12345\"):\n",
        "  atm.deposit(\"12345\", 1000)\n",
        "  atm.withdraw(\"12345\", 2000)\n",
        "  atm.withdraw(\"12345\", 500)"
      ],
      "metadata": {
        "id": "Y4lMggHOM4wU"
      },
      "execution_count": null,
      "outputs": []
    },
    {
      "cell_type": "markdown",
      "source": [
        "＜実行結果例＞\n",
        "\n",
        "```\n",
        "名前:千歳太郎 口座番号:12345 は存在しません。\n",
        "千歳太郎 さんのアカウントを口座番号:12345 で登録しました。\n",
        "名前:千歳太郎 口座番号:12345 は存在します。\n",
        "口座番号:12345 に1000 円入金しました。\n",
        "口座番号:12345 から2000 円引き出せませんでした。残高:1000 円です。\n",
        "口座番号:12345 から500 円引き出しました。残高:500 円です。\n",
        "```"
      ],
      "metadata": {
        "id": "0zUHE9eHe5-Z"
      }
    },
    {
      "cell_type": "code",
      "source": [
        "# 入力用\n",
        "#boolearn:プール値のこと。真偽で返す\n",
        "class Account:\n",
        "  def __init__(self,name,number):\n",
        "    self.balance=0\n",
        "    self.name=name\n",
        "    self.number=number\n",
        "\n",
        "class ATM:\n",
        "  count=0\n",
        "  def __init__(self):\n",
        "    self.accounts=[]\n",
        "\n",
        "  def register_account(self,name,number):\n",
        "    self.account=Account(name,number)\n",
        "    self.accounts.append(self.account)\n",
        "    print(f\"{name} さんのアカウントを口座番号:{number} で登録しました。\")\n",
        "\n",
        "  def exists_account(self,name,number):\n",
        "    for acc in self.accounts:\n",
        "      if acc.name==name and acc.number==number:\n",
        "        print(f\"名前:{name} 口座番号:{number} は存在します。\")\n",
        "        return True\n",
        "      else:\n",
        "        print(f\"名前:{name} 口座番号:{number} は存在しません。\")\n",
        "        return False\n",
        "\n",
        "  def deposit(self,number,money):\n",
        "    for acc in self.accounts:\n",
        "      if acc.number==number:\n",
        "        acc.balance+=money\n",
        "        print(f\"口座番号:{number} に{money} 円入金しました。\")\n",
        "      else:\n",
        "         print(f\"口座番号:{number} は存在しません。\")\n",
        "\n",
        "  def withdraw(self,number,money):\n",
        "    for acc in self.accounts:\n",
        "      if acc.number==number:\n",
        "        if(acc.balance>money):\n",
        "          acc.balance-=money\n",
        "          print(f\"口座番号:{number} から{money} 円引き出しました。残高:{acc.balance} 円です。\")\n",
        "        else:\n",
        "          print(f\"口座番号:{number} から{money} 円引き出せませんでした。残高:{acc.balance} 円です。\")\n",
        "        return\n",
        "    print(f\"口座番号:{number} は存在しません。\")\n",
        "    return\n",
        "\n"
      ],
      "metadata": {
        "id": "ckaSfHW4rbt-"
      },
      "execution_count": 9,
      "outputs": []
    },
    {
      "cell_type": "code",
      "source": [
        "atm = ATM()\n",
        "\n",
        "atm.exists_account(\"千歳太郎\",\"12345\")\n",
        "atm.register_account(\"千歳太郎\",\"12345\")\n",
        "\n",
        "if atm.exists_account(\"千歳太郎\",\"12345\"):\n",
        "  atm.deposit(\"12345\", 1000)\n",
        "  atm.withdraw(\"12345\", 2000)\n",
        "  atm.withdraw(\"12345\", 500)"
      ],
      "metadata": {
        "id": "d-bph3XdQXpH",
        "colab": {
          "base_uri": "https://localhost:8080/"
        },
        "outputId": "90c83f16-8459-4ee7-ea19-8845aa083f99"
      },
      "execution_count": 10,
      "outputs": [
        {
          "output_type": "stream",
          "name": "stdout",
          "text": [
            "千歳太郎 さんのアカウントを口座番号:12345 で登録しました。\n",
            "名前:千歳太郎 口座番号:12345 は存在します。\n",
            "口座番号:12345 に1000 円入金しました。\n",
            "口座番号:12345 から2000 円引き出せませんでした。残高:1000 円です。\n",
            "口座番号:12345 から500 円引き出しました。残高:500 円です。\n"
          ]
        }
      ]
    }
  ]
}